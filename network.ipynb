{
 "cells": [
  {
   "cell_type": "code",
   "execution_count": 19,
   "metadata": {
    "collapsed": true
   },
   "outputs": [],
   "source": [
    "import numpy as np\n",
    "import pandas as pd\n",
    "import matplotlib.pyplot as plt\n",
    "import networkx as nx\n",
    "from sklearn.utils import shuffle"
   ]
  },
  {
   "cell_type": "code",
   "execution_count": null,
   "metadata": {
    "collapsed": true
   },
   "outputs": [],
   "source": [
    "network = pd.read_table(\"breast_correlation_v2.txt\", sep='\\t', header=None, names=['src', 'dest', 'r', 'p'])\n",
    "network.head()"
   ]
  },
  {
   "cell_type": "code",
   "execution_count": null,
   "metadata": {
    "collapsed": true
   },
   "outputs": [],
   "source": [
    "def print_stat(network):\n",
    "    src_nodes = set(np.unique(network.src.values))\n",
    "    dest_nodes = set(np.unique(network.dest.values))\n",
    "    print \"number of all nodes: \" + str(len(src_nodes | dest_nodes))\n",
    "    print \"number of src nodes: \" + str(np.unique(network.src.values).shape[0])\n",
    "    print \"number of dest nodes: \" + str(np.unique(network.dest.values).shape[0])\n",
    "    print \"number of src_nodes - dest_nodes: \" + str(len(src_nodes - dest_nodes))\n",
    "    print \"number of dest_nodes - src_nodes: \" + str(len(dest_nodes - src_nodes))\n",
    "    print \"number of all edges: \" + str(network.shape[0])\n"
   ]
  },
  {
   "cell_type": "code",
   "execution_count": null,
   "metadata": {
    "collapsed": true
   },
   "outputs": [],
   "source": [
    "# draw histogram of edge weights (correlation)\n",
    "plt.figure()\n",
    "network.r.plot.hist(alpha=0.5, bins=20)\n",
    "plt.axvline(x=0.5, color='red')\n",
    "plt.axvline(x=-0.5, color='red')\n",
    "plt.show()\n",
    "\n",
    "plt.figure()\n",
    "network.p.plot.hist(alpha=0.5, bins=20)\n",
    "plt.show()"
   ]
  },
  {
   "cell_type": "markdown",
   "metadata": {},
   "source": [
    "# subnetwork\n",
    "\n",
    "cut off network by edge weight (correlation)"
   ]
  },
  {
   "cell_type": "code",
   "execution_count": null,
   "metadata": {
    "collapsed": true
   },
   "outputs": [],
   "source": [
    "network_cutoff5 = network[abs(network.r) > 0.5]\n",
    "print_stat(network_cutoff5)"
   ]
  },
  {
   "cell_type": "code",
   "execution_count": null,
   "metadata": {
    "collapsed": true
   },
   "outputs": [],
   "source": [
    "# construct graph\n",
    "def construct_graph(df):\n",
    "    G = nx.DiGraph()\n",
    "    for idx, row in df.iterrows():\n",
    "        G.add_edge(row.src, row.dest, corr=row.r, pval=row.p)\n",
    "\n",
    "    # print graph properties\n",
    "    print nx.number_weakly_connected_components(G)\n",
    "    print nx.is_directed_acyclic_graph(G)\n",
    "    print nx.isolates(G)\n",
    "    print nx.is_strongly_connected(G)\n",
    "    print nx.number_strongly_connected_components(G)\n",
    "    print nx.is_semiconnected(G)\n",
    "    \n",
    "    return G"
   ]
  },
  {
   "cell_type": "code",
   "execution_count": null,
   "metadata": {
    "collapsed": true
   },
   "outputs": [],
   "source": [
    "plt.figure()\n",
    "plt.bar(range(len(nx.degree_histogram(G))), nx.degree_histogram(G))\n",
    "plt.show()"
   ]
  },
  {
   "cell_type": "code",
   "execution_count": null,
   "metadata": {
    "collapsed": true
   },
   "outputs": [],
   "source": [
    "network_cutoff5.to_csv(\"breast_cancer_correlation_cutoff_0_6\", sep='\\t')"
   ]
  },
  {
   "cell_type": "markdown",
   "metadata": {
    "collapsed": true
   },
   "source": [
    "# dataframe creation"
   ]
  },
  {
   "cell_type": "code",
   "execution_count": null,
   "metadata": {
    "collapsed": true
   },
   "outputs": [],
   "source": [
    "deep_input = pd.read_table('deep_input_c3_pert_v2LogN', sep='\\t', header=0)\n",
    "#deep_input = deep_input.loc[:, ['Gene:Cell', 'T/F']]\n",
    "#deep_input_tmp = deep_input['Gene:Cell'].str.split(':', expand=True)\n",
    "#deep_input = pd.concat([deep_input_tmp, deep_input['T/F']], axis=1)\n",
    "#deep_input\n",
    "deep_input.columns = ['gene', 'cell', 'label']\n",
    "deep_input.head()"
   ]
  },
  {
   "cell_type": "code",
   "execution_count": null,
   "metadata": {
    "collapsed": true
   },
   "outputs": [],
   "source": [
    "truefalse = np.zeros(network.shape[0], dtype=np.int32)\n",
    "truefalse.shape"
   ]
  },
  {
   "cell_type": "code",
   "execution_count": null,
   "metadata": {
    "collapsed": true
   },
   "outputs": [],
   "source": [
    "def mark_clusters():\n",
    "    network = pd.read_table(\"../breast_cancer_corr_essential_marked\", sep='\\t', header=0, index_col=0)\n",
    "    #network['c'] = np.zeros(network.shape[0], dtype=np.int32)\n",
    "\n",
    "    for c in range(1, 4):\n",
    "        df_c = pd.read_table('../clusters/mini_c{0}.txt'.format(c), sep='\\t', header=None, names=['gene'])\n",
    "        df_c = df_c['gene'].str.split(':', expand=True)\n",
    "        df_c.columns = ['gene', 'cell']\n",
    "        print \"df_c\" + str(c) \n",
    "        #rint df_c\n",
    "        \n",
    "        diff_set = set(df_c.gene.values) - set(network.src.values)\n",
    "        \n",
    "        if len(diff_set) != 0:\n",
    "            for gene in diff_set:\n",
    "                row = pd.Series(np.zeros((network.shape[1], ), dtype=object), index=network.columns)\n",
    "                row['src'] = gene\n",
    "                row['dest'] = None\n",
    "                network = network.append(row, ignore_index=True)\n",
    "            ### END - for\n",
    "        ### END - if\n",
    "        \n",
    "        print \"difference \" + str(len(diff_set))\n",
    "        \n",
    "        c_col = np.zeros(network.shape[0], dtype=np.int32)\n",
    "        for idx, row in network.iterrows():\n",
    "            if row.src in df_c.gene.values:\n",
    "                c_col[idx] = 1\n",
    "        network['c{0}'.format(c)] = c_col\n",
    "        ### END - for\n",
    "    ### END - for\n",
    "    \n",
    "    network['f'] = np.zeros(network.shape[0], dtype=np.int32)\n",
    "    \n",
    "    for f in range(1, 6):\n",
    "        df_f = pd.read_table('../clusters/mini_f{0}.txt'.format(f), sep='\\t', header=None, names=['gene', 'cluster'])\n",
    "        diff_set = set(df_f.gene.values) - set(network.src.values)\n",
    "        \n",
    "        if len(diff_set) != 0:\n",
    "            for gene in diff_set:\n",
    "                row = pd.Series(np.zeros((network.shape[1], ), dtype=object), index=network.columns)\n",
    "                row['src'] = gene\n",
    "                row['dest'] = None\n",
    "                network = network.append(row, ignore_index=True)\n",
    "        \n",
    "        print \"difference \" + str(len(diff_set))\n",
    "        \n",
    "        for idx, row in network.iterrows():\n",
    "            if row.src in df_f.gene.values:\n",
    "                network.at[idx, 'f'] = f\n",
    "    ### END - for\n",
    "    \n",
    "    for c in range(1, 4):\n",
    "        for f in range(1, 6):\n",
    "            idx = network[(network['c{0}'.format(c)] == 1) | (network['f'] == f)].index\n",
    "            col = np.zeros(network.shape[0], dtype=np.int32)\n",
    "            col[idx] = 1\n",
    "            network['c{0}f{1}'.format(c, f)] = col\n",
    "    return network"
   ]
  },
  {
   "cell_type": "code",
   "execution_count": null,
   "metadata": {
    "collapsed": true
   },
   "outputs": [],
   "source": [
    "network = mark_clusters()\n",
    "network.to_csv('../breast_cancer_cluster_marked_cf', sep='\\t')"
   ]
  },
  {
   "cell_type": "code",
   "execution_count": null,
   "metadata": {
    "collapsed": true
   },
   "outputs": [],
   "source": [
    "def make_gene_df():\n",
    "    db = pd.read_table('../deep_input_c3_pert_v2LogN', header=0, sep='\\t')\n",
    "    db = db[['Gene:Cell', 'T/F']]\n",
    "    db[['gene', 'cell']] = db['Gene:Cell'].str.split(':', expand=True)\n",
    "    db.drop('Gene:Cell', axis=1, inplace=True)\n",
    "    db = db[['gene', 'cell', 'T/F']]\n",
    "    db = db.sort_values('gene', axis=0).reset_index()\n",
    "    print db.head()\n",
    "    db.drop(['level_0', 'index'], axis=1, inplace=True)\n",
    "    print db.head()\n",
    "    \n",
    "    db_2 = db.drop_duplicates(subset='gene')\n",
    "    db_2.head()\n",
    "    genes = db_2['gene'].values\n",
    "    gene_df = db_2\n",
    "    gene_df.head()\n",
    "    #gene_df.set_index('gene', inplace=True)\n",
    "    gene_df.loc[:, 'total'] = 0\n",
    "    gene_df.loc[:, 'ess'] = 0\n",
    "    gene_df.loc[:, 'cells'] = ''\n",
    "\n",
    "    for gene in genes:\n",
    "        cnt = db[db['gene'] == gene]['T/F'].sum()\n",
    "        gene_df.loc[gene, 'ess'] = cnt\n",
    "        gene_df.loc[gene, 'total'] = db[db['gene'] == gene].shape[0]\n",
    "    gene_df = gene_df[['total', 'ess']]\n",
    "    gene_df.to_csv('gene_essential_cnt', sep='\\t')\n",
    "    return gene_df"
   ]
  },
  {
   "cell_type": "code",
   "execution_count": null,
   "metadata": {
    "collapsed": true
   },
   "outputs": [],
   "source": [
    "node_df = pd.read_table(\"../breast_cancer_node_df\", header=0, index_col=0)\n",
    "node_df = node_df[['src_ess', 'in_central', 'out_central', 'close', 'between']]\n"
   ]
  },
  {
   "cell_type": "code",
   "execution_count": null,
   "metadata": {
    "collapsed": true
   },
   "outputs": [],
   "source": [
    "gene_df.reset_index(inplace=True)\n",
    "node_df.reset_index(inplace=True)\n",
    "print gene_df.head()\n",
    "print node_df.head()"
   ]
  },
  {
   "cell_type": "code",
   "execution_count": null,
   "metadata": {
    "collapsed": true
   },
   "outputs": [],
   "source": [
    "ess_pool = gene_df.gene.values\n",
    "node_df.loc[:, 'mark'] = 0\n",
    "mark_idx = []\n",
    "for idx, row in node_df.iterrows():\n",
    "    if row.src in ess_pool:\n",
    "        mark_idx.append(idx)\n",
    "\n",
    "node_df.loc[mark_idx, 'mark'] = 1\n",
    "node_df\n",
    "        "
   ]
  },
  {
   "cell_type": "code",
   "execution_count": null,
   "metadata": {
    "collapsed": true
   },
   "outputs": [],
   "source": [
    "experiment_pool_centrality = node_df[node_df.mark == 1].drop('mark', axis=1)\n",
    "experiment_pool_centrality.to_csv(\"../experiment_pool_centrality\", sep='\\t')"
   ]
  },
  {
   "cell_type": "code",
   "execution_count": null,
   "metadata": {
    "collapsed": true
   },
   "outputs": [],
   "source": [
    "experiment_pool_centrality.plot.box()"
   ]
  },
  {
   "cell_type": "code",
   "execution_count": null,
   "metadata": {
    "collapsed": true
   },
   "outputs": [],
   "source": [
    "node_df = pd.read_table('../breast_cancer_node_df', header=0, index_col=0)\n",
    "node_df = node_df[['in_central', 'out_central', 'close', 'between']]"
   ]
  },
  {
   "cell_type": "code",
   "execution_count": null,
   "metadata": {
    "collapsed": true,
    "scrolled": false
   },
   "outputs": [],
   "source": [
    "file_list = ['']\n",
    "with open('../Input_Non_c3_cs.txt', 'r') as f:\n",
    "    ls = f.read().split('\\n')\n",
    "    #node_df.loc[:, 'c3_cs_ess'] = None\n",
    "    for gene in ls:\n",
    "        if gene in node_df.index:\n",
    "            node_df.loc[gene, 'c3_cs_ess'] = 0\n",
    "\n",
    "#node_df.c3_cs_ess.apply(pd.to_numeric, errors='coerce', downcast='integer')\n",
    "node_df\n",
    "        "
   ]
  },
  {
   "cell_type": "code",
   "execution_count": null,
   "metadata": {
    "collapsed": true
   },
   "outputs": [],
   "source": [
    "node_df[node_df.c3_cs_ess == 1]"
   ]
  },
  {
   "cell_type": "code",
   "execution_count": null,
   "metadata": {
    "collapsed": true
   },
   "outputs": [],
   "source": [
    "node_df.to_csv('breast_cancer_node_df_central_ess_marked', sep='\\t')"
   ]
  },
  {
   "cell_type": "markdown",
   "metadata": {},
   "source": [
    "# pariwise shortest path among cluster nodes"
   ]
  },
  {
   "cell_type": "code",
   "execution_count": 15,
   "metadata": {
    "collapsed": true
   },
   "outputs": [],
   "source": [
    "def construct_graph(set_cluster=True):\n",
    "\t\"\"\" Constructs networkx graph from network DataFrame. \n",
    "\tIf set_cluster is True, cluster information is added to the nodes.\n",
    "\n",
    "\targs:\n",
    "\t\tset_cluster (bool) : whether to put cluster information to nodes\n",
    "\n",
    "\treturns:\n",
    "\t\tnetworkx constructed from edge information data frame\n",
    "\n",
    "\t\"\"\"\n",
    "\n",
    "\t# network_df should also have clustered information\n",
    "\tdf = pd.read_table('../breast_cancer_cluster_marked_cf', sep='\\t', header=0, index_col=0)\n",
    "\tess_dic, c1_dic, c2_dic, c3_dic, f_dic = {}, {}, {}, {}, {}\n",
    "\tG = nx.DiGraph()\n",
    "\t# add edges to the graph\n",
    "\tfor idx, row in df.iterrows():\n",
    "\t\tG.add_edge(row.src, row.dest, r=row.r, p=row.p)\n",
    "\t\tif set_cluster:\n",
    "\t\t\tess_dic[row.src] = row.src_ess\n",
    "\t\t\tc1_dic[row.src] = row.c1\n",
    "\t\t\tc2_dic[row.src] = row.c2\n",
    "\t\t\tc3_dic[row.src] = row.c3\n",
    "\t\t\tf_dic[row.src] = row.f\n",
    "\t### END - for\n",
    "\tif set_cluster:\n",
    "\t\tnx.set_node_attributes(G, 'ess', ess_dic)\n",
    "\t\tnx.set_node_attributes(G, 'c1', c1_dic)\n",
    "\t\tnx.set_node_attributes(G, 'c2', c2_dic)\n",
    "\t\tnx.set_node_attributes(G, 'c3', c3_dic)\n",
    "\t\tnx.set_node_attributes(G, 'f', f_dic)\n",
    "\n",
    "\ttry:\n",
    "\t\tG.remove_node(np.nan)\n",
    "\texcept NetworkXError:\n",
    "\t\tprint \"node requested to remove does not exists\"\n",
    "\n",
    "\t# remove node that are not in the main conneted_component\n",
    "\tto_be_removed = isolated_nodes(G)\n",
    "\tfor n in to_be_removed:\n",
    "\t\tG.remove_node(n)\n",
    "\n",
    "\treturn G\n",
    "\n",
    "\n",
    "def isolated_nodes(G):\n",
    "\t\"\"\" Returns the nodes that are not in the largest weakly connected component.\n",
    "\n",
    "\targs:\n",
    "\t\tG (nx.DiGraph) : graph\n",
    "\n",
    "\treturns:\n",
    "\t\tset of nodes that are not in the largest weakly connected component\n",
    "\n",
    "\t\"\"\"\n",
    "\tto_be_removed = set()\n",
    "\tidx = 0\n",
    "\tfor comp in nx.weakly_connected_components(G):\n",
    "\t\tif idx != 0:\n",
    "\t\t\tto_be_removed.union(comp)\n",
    "\t\tidx += 1\n",
    "\treturn to_be_removed"
   ]
  },
  {
   "cell_type": "code",
   "execution_count": 16,
   "metadata": {
    "collapsed": true,
    "scrolled": false
   },
   "outputs": [],
   "source": [
    "def pairwise_shortest_path(G, node_list):\n",
    "\t\"\"\" Calculate pairwise shortest path length for given nodes (node_list) in graph G. \n",
    "\tIf a path exists in either way, use that path length. \n",
    "\tIf no path exists, use np.inf as length.\n",
    "\n",
    "\targs:\n",
    "\t\tG (NetworkX graph) : directed or undirected graph\n",
    "\t\tnode_list (list) : list of nodes to calculate pairwise shortest length\n",
    "\n",
    "\treturns:\n",
    "\t\tlist of shortest path lengts in unrolled fasion\n",
    "\n",
    "\t\"\"\"\n",
    "\tlist_len = len(node_list)\n",
    "\tpath_len_list = []\n",
    "\tfor i in range(list_len):\n",
    "\t\tfor k in range(i+1, list_len):\n",
    "\t\t\tn1 = node_list[i]\n",
    "\t\t\tn2 = node_list[k]\n",
    "\t\t\ttry:\n",
    "\t\t\t\tlength = nx.shortest_path_length(G, source=n1, target=n2, weight=None)\n",
    "\t\t\texcept nx.NetworkXNoPath:\n",
    "\t\t\t\ttry:\n",
    "\t\t\t\t\tlength = nx.shortest_path_length(G, source=n2, target=n1, weight=None)\n",
    "\t\t\t\texcept nx.NetworkXNoPath:\n",
    "\t\t\t\t\tlength = np.inf\n",
    "\t\t\tpath_len_list.append(length)\n",
    "\t\t### END - for k\n",
    "\t### END - for i\n",
    "\treturn path_len_list\n",
    "### pairwise_shortest_path\n",
    "\n"
   ]
  },
  {
   "cell_type": "code",
   "execution_count": 17,
   "metadata": {
    "collapsed": true
   },
   "outputs": [],
   "source": [
    "def compare_distance():\n",
    "\tG = construct_graph()\n",
    "\tdf = pd.read_table('../breast_cancer_all_node_df', sep='\\t', header=0, index_col=None)\n",
    "\t\n",
    "\tall_nodes = df.src.values\n",
    "\tlen_df = pd.DataFrame()\n",
    "\tfor c in range(1, 4):\n",
    "\t\tfor f in range(1, 6):\n",
    "\t\t\tcluster = df[df['c{0}f{1}'.format(c, f)] == 1]['src'].values\n",
    "\t\t\trandom_nodes = list(shuffle(all_nodes, n_samples=cluster.shape[0]))\n",
    "\t\t\t\n",
    "\t\t\tlen_df['c{0}f{1}'.format(c, f)] = pd.Series(pairwise_shortest_path(G, list(cluster)))\n",
    "\t\t\tlen_df['rand_c{0}f{1}'.format(c, f)] = pd.Series(pairwise_shortest_path(G, random_nodes))\n",
    "\t\t### END - for f\n",
    "\t### END - for c\n",
    "\treturn len_df"
   ]
  },
  {
   "cell_type": "code",
   "execution_count": 38,
   "metadata": {},
   "outputs": [
    {
     "name": "stdout",
     "output_type": "stream",
     "text": [
      "\n"
     ]
    }
   ],
   "source": [
    "len_df = compare_distance()"
   ]
  },
  {
   "cell_type": "code",
   "execution_count": 39,
   "metadata": {
    "scrolled": true
   },
   "outputs": [
    {
     "name": "stdout",
     "output_type": "stream",
     "text": [
      "rand_c1f1 0.0122772277228\n",
      "rand_c1f2 0.0073145245559\n",
      "rand_c1f3 0.00435643564356\n",
      "rand_c1f4 0.00327255726975\n",
      "rand_c1f5 0.0108910891089\n",
      "rand_c2f1 0.0\n",
      "rand_c2f2 0.0\n",
      "rand_c2f3 0.0121457489879\n",
      "rand_c2f4 0.030303030303\n",
      "rand_c2f5 0.00215053763441\n",
      "rand_c3f1 0.00792079207921\n",
      "rand_c3f2 0.00888192267503\n",
      "rand_c3f3 0.00732673267327\n",
      "rand_c3f4 0.00915122397621\n",
      "rand_c3f5 0.0253465346535\n"
     ]
    }
   ],
   "source": [
    "for c in range(1, 4):\n",
    "    for f in range(1, 6):\n",
    "        clust = 'rand_c{0}f{1}'.format(c, f)\n",
    "        print clust, float(len_df[(len_df[clust] != np.inf) & (len_df[clust].notnull())][clust].shape[0]) / len_df[len_df[clust].notnull()][clust].shape[0]"
   ]
  },
  {
   "cell_type": "code",
   "execution_count": 42,
   "metadata": {
    "scrolled": true
   },
   "outputs": [
    {
     "name": "stdout",
     "output_type": "stream",
     "text": [
      "c1f1 0.0552475247525\n",
      "c1f2 0.066091954023\n",
      "c1f3 0.0772277227723\n",
      "c1f4 0.0841514726508\n",
      "c1f5 0.0681188118812\n",
      "c2f1 0.0473684210526\n",
      "c2f2 0.619047619048\n",
      "c2f3 0.0337381916329\n",
      "c2f4 0.363636363636\n",
      "c2f5 0.0774193548387\n",
      "c3f1 0.050099009901\n",
      "c3f2 0.0626959247649\n",
      "c3f3 0.0669306930693\n",
      "c3f4 0.0828185769847\n",
      "c3f5 0.0643564356436\n"
     ]
    }
   ],
   "source": [
    "for c in range(1, 4):\n",
    "    for f in range(1, 6):\n",
    "        clust = 'c{0}f{1}'.format(c, f)\n",
    "        print clust, float(len_df[(len_df[clust] != np.inf) & (len_df[clust].notnull())][clust].shape[0]) / len_df[len_df[clust].notnull()][clust].shape[0]"
   ]
  },
  {
   "cell_type": "code",
   "execution_count": null,
   "metadata": {
    "collapsed": true
   },
   "outputs": [],
   "source": [
    "for c in range(1, 4):\n",
    "    for f in range(1, 6):\n",
    "        cluster = df[df['c{0}f{1}'.format(c, f)] == 1]['src'].values\n",
    "        print sorted(set(cluster))\n",
    "        print sorted(set(list(shuffle(all_nodes, n_samples=cluster.shape[0]))))\n",
    "        break\n",
    "    break\n",
    "        #print cluster"
   ]
  },
  {
   "cell_type": "code",
   "execution_count": null,
   "metadata": {
    "collapsed": true,
    "scrolled": true
   },
   "outputs": [],
   "source": [
    "for n in range(10):\n",
    "    len_list = pairwise_shortest_path(G, list(shuffle(all_nodes, n_samples=20, random_state=n)))\n",
    "    len_arr = np.array(len_list)\n",
    "    print len_arr[len_arr != np.inf].shape[0] / float(len_arr.shape[0])\n",
    "\n",
    "c = 2\n",
    "print '***'\n",
    "for f in range(1, 6):\n",
    "    cluster = df[df['c{0}f{1}'.format(c, f)] == 1]['src'].values\n",
    "    len_list = pairwise_shortest_path(G, list(cluster))\n",
    "    print len_list\n",
    "    len_arr = np.array(len_list)\n",
    "    print float(len_arr[len_arr != np.inf].shape[0]) / len_arr.shape[0]"
   ]
  },
  {
   "cell_type": "code",
   "execution_count": null,
   "metadata": {
    "collapsed": true
   },
   "outputs": [],
   "source": []
  }
 ],
 "metadata": {
  "kernelspec": {
   "display_name": "Python 2",
   "language": "python",
   "name": "python2"
  },
  "language_info": {
   "codemirror_mode": {
    "name": "ipython",
    "version": 2
   },
   "file_extension": ".py",
   "mimetype": "text/x-python",
   "name": "python",
   "nbconvert_exporter": "python",
   "pygments_lexer": "ipython2",
   "version": "2.7.13"
  }
 },
 "nbformat": 4,
 "nbformat_minor": 2
}
